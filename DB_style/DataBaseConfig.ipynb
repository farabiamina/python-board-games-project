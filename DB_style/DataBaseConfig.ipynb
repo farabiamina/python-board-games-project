{
 "cells": [
  {
   "cell_type": "code",
   "execution_count": 6,
   "metadata": {},
   "outputs": [],
   "source": [
    "import pandas as pd\n",
    "from sqlalchemy import create_engine, text"
   ]
  },
  {
   "cell_type": "code",
   "execution_count": null,
   "metadata": {},
   "outputs": [],
   "source": [
    "db_user = 'root'     \n",
    "db_password = 'farabi68' \n",
    "db_host = 'localhost'    \n",
    "db_port = 3306    \n",
    "db_name = 'board_games'\n",
    "\n",
    "engine = create_engine(f'mysql+mysqlconnector://{db_user}:{db_password}@{db_host}:{db_port}/{db_name}')"
   ]
  },
  {
   "cell_type": "code",
   "execution_count": null,
   "metadata": {},
   "outputs": [],
   "source": [
    "data = pd.read_csv(\"bgg-19m-reviews/bgg-19m-reviews.csv\", usecols=['rating', 'ID', 'name'])\n",
    "\n",
    "chunksize = 50000\n",
    "\n",
    "table_name = 'games_reviews'\n",
    "\n",
    "for chunk in pd.read_csv(\"bgg-19m-reviews/bgg-19m-reviews.csv\", usecols=['rating', 'ID', 'name'], chunksize=chunksize):\n",
    "    chunk.to_sql(name=table_name, con=engine, if_exists='append', index=False)\n",
    "    print(f\"Загружены {len(chunk)} строк в таблицу {table_name}.\")"
   ]
  },
  {
   "cell_type": "code",
   "execution_count": null,
   "metadata": {},
   "outputs": [],
   "source": [
    "query = \"\"\"\n",
    "CREATE TABLE games_reviews_frequency AS\n",
    "SELECT \n",
    "    rating,\n",
    "    COUNT(*) AS frequency,\n",
    "    id,\n",
    "    name\n",
    "FROM games_reviews\n",
    "GROUP BY rating, id, name;\n",
    "\"\"\"\n",
    "\n",
    "with engine.connect() as connection:\n",
    "    connection.execute(text(query))\n",
    "\n",
    "print(\"Таблица games_reviews_frequency успешно создана.\")"
   ]
  }
 ],
 "metadata": {
  "kernelspec": {
   "display_name": "Python 3",
   "language": "python",
   "name": "python3"
  },
  "language_info": {
   "codemirror_mode": {
    "name": "ipython",
    "version": 3
   },
   "file_extension": ".py",
   "mimetype": "text/x-python",
   "name": "python",
   "nbconvert_exporter": "python",
   "pygments_lexer": "ipython3",
   "version": "3.10.2"
  }
 },
 "nbformat": 4,
 "nbformat_minor": 2
}
